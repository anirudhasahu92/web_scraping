{
 "cells": [
  {
   "cell_type": "code",
   "execution_count": 1,
   "id": "3fffaa51",
   "metadata": {},
   "outputs": [],
   "source": [
    "import pandas as pd"
   ]
  },
  {
   "cell_type": "code",
   "execution_count": 2,
   "id": "d17a4231",
   "metadata": {},
   "outputs": [],
   "source": [
    "url = 'https://en.wikipedia.org/wiki/List_of_largest_companies_by_revenue'"
   ]
  },
  {
   "cell_type": "code",
   "execution_count": 3,
   "id": "5b815e33",
   "metadata": {},
   "outputs": [],
   "source": [
    "tables = pd.read_html(url)"
   ]
  },
  {
   "cell_type": "code",
   "execution_count": 4,
   "id": "a269c047",
   "metadata": {},
   "outputs": [
    {
     "data": {
      "text/plain": [
       "list"
      ]
     },
     "execution_count": 4,
     "metadata": {},
     "output_type": "execute_result"
    }
   ],
   "source": [
    "type(tables)"
   ]
  },
  {
   "cell_type": "code",
   "execution_count": 5,
   "id": "f912ffc1",
   "metadata": {},
   "outputs": [
    {
     "data": {
      "text/plain": [
       "6"
      ]
     },
     "execution_count": 5,
     "metadata": {},
     "output_type": "execute_result"
    }
   ],
   "source": [
    "len(tables)"
   ]
  },
  {
   "cell_type": "code",
   "execution_count": 6,
   "id": "e36bc7fe",
   "metadata": {
    "scrolled": true
   },
   "outputs": [
    {
     "data": {
      "text/html": [
       "<div>\n",
       "<style scoped>\n",
       "    .dataframe tbody tr th:only-of-type {\n",
       "        vertical-align: middle;\n",
       "    }\n",
       "\n",
       "    .dataframe tbody tr th {\n",
       "        vertical-align: top;\n",
       "    }\n",
       "\n",
       "    .dataframe thead tr th {\n",
       "        text-align: left;\n",
       "    }\n",
       "</style>\n",
       "<table border=\"1\" class=\"dataframe\">\n",
       "  <thead>\n",
       "    <tr>\n",
       "      <th></th>\n",
       "      <th>Rank</th>\n",
       "      <th>Name</th>\n",
       "      <th>Industry</th>\n",
       "      <th>Revenue</th>\n",
       "      <th>Profit</th>\n",
       "      <th>Employees</th>\n",
       "      <th>Headquarters[note 1]</th>\n",
       "      <th>State-owned</th>\n",
       "      <th>Ref.</th>\n",
       "      <th>Revenue per worker</th>\n",
       "    </tr>\n",
       "    <tr>\n",
       "      <th></th>\n",
       "      <th>Rank</th>\n",
       "      <th>Name</th>\n",
       "      <th>Industry</th>\n",
       "      <th>USD millions</th>\n",
       "      <th>USD millions</th>\n",
       "      <th>Employees</th>\n",
       "      <th>Headquarters[note 1]</th>\n",
       "      <th>State-owned</th>\n",
       "      <th>Ref.</th>\n",
       "      <th>Revenue per worker</th>\n",
       "    </tr>\n",
       "  </thead>\n",
       "  <tbody>\n",
       "    <tr>\n",
       "      <th>0</th>\n",
       "      <td>1</td>\n",
       "      <td>Walmart</td>\n",
       "      <td>Retail</td>\n",
       "      <td>$611,289</td>\n",
       "      <td>$11,680</td>\n",
       "      <td>2100000</td>\n",
       "      <td>United States</td>\n",
       "      <td>NaN</td>\n",
       "      <td>[1]</td>\n",
       "      <td>$291,090.00</td>\n",
       "    </tr>\n",
       "    <tr>\n",
       "      <th>1</th>\n",
       "      <td>2</td>\n",
       "      <td>Saudi Aramco</td>\n",
       "      <td>Oil and gas</td>\n",
       "      <td>$603,651</td>\n",
       "      <td>$159,069</td>\n",
       "      <td>70496</td>\n",
       "      <td>Saudi Arabia</td>\n",
       "      <td>NaN</td>\n",
       "      <td>[4]</td>\n",
       "      <td>$8,562,911.37</td>\n",
       "    </tr>\n",
       "    <tr>\n",
       "      <th>2</th>\n",
       "      <td>3</td>\n",
       "      <td>Amazon</td>\n",
       "      <td>Retail</td>\n",
       "      <td>$574,785</td>\n",
       "      <td>$30,425</td>\n",
       "      <td>1525000</td>\n",
       "      <td>United States</td>\n",
       "      <td>NaN</td>\n",
       "      <td>[5]</td>\n",
       "      <td>$376,908</td>\n",
       "    </tr>\n",
       "    <tr>\n",
       "      <th>3</th>\n",
       "      <td>4</td>\n",
       "      <td>State Grid Corporation of China</td>\n",
       "      <td>Electricity</td>\n",
       "      <td>$530,009</td>\n",
       "      <td>$8,192</td>\n",
       "      <td>870287</td>\n",
       "      <td>China</td>\n",
       "      <td>NaN</td>\n",
       "      <td>[6]</td>\n",
       "      <td>$609,004.85</td>\n",
       "    </tr>\n",
       "    <tr>\n",
       "      <th>4</th>\n",
       "      <td>5</td>\n",
       "      <td>Vitol</td>\n",
       "      <td>Commodities</td>\n",
       "      <td>$505,000</td>\n",
       "      <td>$15,000</td>\n",
       "      <td>1560</td>\n",
       "      <td>Switzerland</td>\n",
       "      <td>NaN</td>\n",
       "      <td>[7][8]</td>\n",
       "      <td>$323,717,948.72</td>\n",
       "    </tr>\n",
       "  </tbody>\n",
       "</table>\n",
       "</div>"
      ],
      "text/plain": [
       "  Rank                             Name     Industry      Revenue  \\\n",
       "  Rank                             Name     Industry USD millions   \n",
       "0    1                          Walmart       Retail     $611,289   \n",
       "1    2                     Saudi Aramco  Oil and gas     $603,651   \n",
       "2    3                           Amazon       Retail     $574,785   \n",
       "3    4  State Grid Corporation of China  Electricity     $530,009   \n",
       "4    5                            Vitol  Commodities     $505,000   \n",
       "\n",
       "        Profit Employees Headquarters[note 1] State-owned    Ref.  \\\n",
       "  USD millions Employees Headquarters[note 1] State-owned    Ref.   \n",
       "0      $11,680   2100000        United States         NaN     [1]   \n",
       "1     $159,069     70496         Saudi Arabia         NaN     [4]   \n",
       "2      $30,425   1525000        United States         NaN     [5]   \n",
       "3       $8,192    870287                China         NaN     [6]   \n",
       "4      $15,000      1560          Switzerland         NaN  [7][8]   \n",
       "\n",
       "  Revenue per worker  \n",
       "  Revenue per worker  \n",
       "0        $291,090.00  \n",
       "1      $8,562,911.37  \n",
       "2           $376,908  \n",
       "3        $609,004.85  \n",
       "4    $323,717,948.72  "
      ]
     },
     "execution_count": 6,
     "metadata": {},
     "output_type": "execute_result"
    }
   ],
   "source": [
    "req_table = tables[0]\n",
    "req_table.head()"
   ]
  },
  {
   "cell_type": "code",
   "execution_count": 7,
   "id": "edff970c",
   "metadata": {
    "scrolled": true
   },
   "outputs": [
    {
     "data": {
      "text/plain": [
       "MultiIndex([(                'Rank',                 'Rank'),\n",
       "            (                'Name',                 'Name'),\n",
       "            (            'Industry',             'Industry'),\n",
       "            (             'Revenue',         'USD millions'),\n",
       "            (              'Profit',         'USD millions'),\n",
       "            (           'Employees',            'Employees'),\n",
       "            ('Headquarters[note 1]', 'Headquarters[note 1]'),\n",
       "            (         'State-owned',          'State-owned'),\n",
       "            (                'Ref.',                 'Ref.'),\n",
       "            (  'Revenue per worker',   'Revenue per worker')],\n",
       "           )"
      ]
     },
     "execution_count": 7,
     "metadata": {},
     "output_type": "execute_result"
    }
   ],
   "source": [
    "req_table.columns"
   ]
  },
  {
   "cell_type": "code",
   "execution_count": 8,
   "id": "d71dbcbc",
   "metadata": {},
   "outputs": [],
   "source": [
    "req_table.columns = req_table.columns.droplevel(1)"
   ]
  },
  {
   "cell_type": "code",
   "execution_count": 9,
   "id": "e7f6fac5",
   "metadata": {},
   "outputs": [
    {
     "data": {
      "text/html": [
       "<div>\n",
       "<style scoped>\n",
       "    .dataframe tbody tr th:only-of-type {\n",
       "        vertical-align: middle;\n",
       "    }\n",
       "\n",
       "    .dataframe tbody tr th {\n",
       "        vertical-align: top;\n",
       "    }\n",
       "\n",
       "    .dataframe thead th {\n",
       "        text-align: right;\n",
       "    }\n",
       "</style>\n",
       "<table border=\"1\" class=\"dataframe\">\n",
       "  <thead>\n",
       "    <tr style=\"text-align: right;\">\n",
       "      <th></th>\n",
       "      <th>Rank</th>\n",
       "      <th>Name</th>\n",
       "      <th>Industry</th>\n",
       "      <th>Revenue</th>\n",
       "      <th>Profit</th>\n",
       "      <th>Employees</th>\n",
       "      <th>Headquarters[note 1]</th>\n",
       "      <th>State-owned</th>\n",
       "      <th>Ref.</th>\n",
       "      <th>Revenue per worker</th>\n",
       "    </tr>\n",
       "  </thead>\n",
       "  <tbody>\n",
       "    <tr>\n",
       "      <th>0</th>\n",
       "      <td>1</td>\n",
       "      <td>Walmart</td>\n",
       "      <td>Retail</td>\n",
       "      <td>$611,289</td>\n",
       "      <td>$11,680</td>\n",
       "      <td>2100000</td>\n",
       "      <td>United States</td>\n",
       "      <td>NaN</td>\n",
       "      <td>[1]</td>\n",
       "      <td>$291,090.00</td>\n",
       "    </tr>\n",
       "    <tr>\n",
       "      <th>1</th>\n",
       "      <td>2</td>\n",
       "      <td>Saudi Aramco</td>\n",
       "      <td>Oil and gas</td>\n",
       "      <td>$603,651</td>\n",
       "      <td>$159,069</td>\n",
       "      <td>70496</td>\n",
       "      <td>Saudi Arabia</td>\n",
       "      <td>NaN</td>\n",
       "      <td>[4]</td>\n",
       "      <td>$8,562,911.37</td>\n",
       "    </tr>\n",
       "    <tr>\n",
       "      <th>2</th>\n",
       "      <td>3</td>\n",
       "      <td>Amazon</td>\n",
       "      <td>Retail</td>\n",
       "      <td>$574,785</td>\n",
       "      <td>$30,425</td>\n",
       "      <td>1525000</td>\n",
       "      <td>United States</td>\n",
       "      <td>NaN</td>\n",
       "      <td>[5]</td>\n",
       "      <td>$376,908</td>\n",
       "    </tr>\n",
       "    <tr>\n",
       "      <th>3</th>\n",
       "      <td>4</td>\n",
       "      <td>State Grid Corporation of China</td>\n",
       "      <td>Electricity</td>\n",
       "      <td>$530,009</td>\n",
       "      <td>$8,192</td>\n",
       "      <td>870287</td>\n",
       "      <td>China</td>\n",
       "      <td>NaN</td>\n",
       "      <td>[6]</td>\n",
       "      <td>$609,004.85</td>\n",
       "    </tr>\n",
       "    <tr>\n",
       "      <th>4</th>\n",
       "      <td>5</td>\n",
       "      <td>Vitol</td>\n",
       "      <td>Commodities</td>\n",
       "      <td>$505,000</td>\n",
       "      <td>$15,000</td>\n",
       "      <td>1560</td>\n",
       "      <td>Switzerland</td>\n",
       "      <td>NaN</td>\n",
       "      <td>[7][8]</td>\n",
       "      <td>$323,717,948.72</td>\n",
       "    </tr>\n",
       "  </tbody>\n",
       "</table>\n",
       "</div>"
      ],
      "text/plain": [
       "   Rank                             Name     Industry   Revenue    Profit  \\\n",
       "0     1                          Walmart       Retail  $611,289   $11,680   \n",
       "1     2                     Saudi Aramco  Oil and gas  $603,651  $159,069   \n",
       "2     3                           Amazon       Retail  $574,785   $30,425   \n",
       "3     4  State Grid Corporation of China  Electricity  $530,009    $8,192   \n",
       "4     5                            Vitol  Commodities  $505,000   $15,000   \n",
       "\n",
       "   Employees Headquarters[note 1]  State-owned    Ref. Revenue per worker  \n",
       "0    2100000        United States          NaN     [1]        $291,090.00  \n",
       "1      70496         Saudi Arabia          NaN     [4]      $8,562,911.37  \n",
       "2    1525000        United States          NaN     [5]           $376,908  \n",
       "3     870287                China          NaN     [6]        $609,004.85  \n",
       "4       1560          Switzerland          NaN  [7][8]    $323,717,948.72  "
      ]
     },
     "execution_count": 9,
     "metadata": {},
     "output_type": "execute_result"
    }
   ],
   "source": [
    "req_table.head()"
   ]
  },
  {
   "cell_type": "code",
   "execution_count": 10,
   "id": "866e8c37",
   "metadata": {},
   "outputs": [
    {
     "name": "stdout",
     "output_type": "stream",
     "text": [
      "<class 'pandas.core.frame.DataFrame'>\n",
      "RangeIndex: 50 entries, 0 to 49\n",
      "Data columns (total 10 columns):\n",
      " #   Column                Non-Null Count  Dtype  \n",
      "---  ------                --------------  -----  \n",
      " 0   Rank                  50 non-null     int64  \n",
      " 1   Name                  50 non-null     object \n",
      " 2   Industry              50 non-null     object \n",
      " 3   Revenue               50 non-null     object \n",
      " 4   Profit                50 non-null     object \n",
      " 5   Employees             50 non-null     int64  \n",
      " 6   Headquarters[note 1]  50 non-null     object \n",
      " 7   State-owned           0 non-null      float64\n",
      " 8   Ref.                  50 non-null     object \n",
      " 9   Revenue per worker    50 non-null     object \n",
      "dtypes: float64(1), int64(2), object(7)\n",
      "memory usage: 4.0+ KB\n"
     ]
    }
   ],
   "source": [
    "req_table.info()"
   ]
  },
  {
   "cell_type": "code",
   "execution_count": 11,
   "id": "f0c14a01",
   "metadata": {},
   "outputs": [
    {
     "data": {
      "text/plain": [
       "Rank                     0\n",
       "Name                     0\n",
       "Industry                 0\n",
       "Revenue                  0\n",
       "Profit                   0\n",
       "Employees                0\n",
       "Headquarters[note 1]     0\n",
       "State-owned             50\n",
       "Ref.                     0\n",
       "Revenue per worker       0\n",
       "dtype: int64"
      ]
     },
     "execution_count": 11,
     "metadata": {},
     "output_type": "execute_result"
    }
   ],
   "source": [
    "req_table.isnull().sum()"
   ]
  },
  {
   "cell_type": "code",
   "execution_count": 12,
   "id": "e71b7f3e",
   "metadata": {},
   "outputs": [
    {
     "data": {
      "text/plain": [
       "(50, 10)"
      ]
     },
     "execution_count": 12,
     "metadata": {},
     "output_type": "execute_result"
    }
   ],
   "source": [
    "req_table.shape"
   ]
  },
  {
   "cell_type": "code",
   "execution_count": null,
   "id": "306797ca",
   "metadata": {},
   "outputs": [],
   "source": []
  }
 ],
 "metadata": {
  "kernelspec": {
   "display_name": "Python 3 (ipykernel)",
   "language": "python",
   "name": "python3"
  },
  "language_info": {
   "codemirror_mode": {
    "name": "ipython",
    "version": 3
   },
   "file_extension": ".py",
   "mimetype": "text/x-python",
   "name": "python",
   "nbconvert_exporter": "python",
   "pygments_lexer": "ipython3",
   "version": "3.11.8"
  }
 },
 "nbformat": 4,
 "nbformat_minor": 5
}
